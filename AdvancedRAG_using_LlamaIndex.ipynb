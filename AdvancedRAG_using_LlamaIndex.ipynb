{
 "cells": [
  {
   "cell_type": "code",
   "execution_count": 2,
   "id": "f1ace0d5",
   "metadata": {},
   "outputs": [],
   "source": [
    "import os\n",
    "from dotenv import load_dotenv "
   ]
  },
  {
   "cell_type": "code",
   "execution_count": 3,
   "id": "b6b9dc0a",
   "metadata": {},
   "outputs": [],
   "source": [
    "load_dotenv()\n",
    "\n",
    "PINECONE_API_KEY = os.getenv(\"PINECONE_API_KEY\")\n",
    "PINECONE_REGION = os.getenv(\"PINECONE_REGION\")\n",
    "PINECONE_CLOUD = os.getenv(\"PINECONE_CLOUD\")\n",
    "HUGGING_FACE_API = os.getenv(\"HUGGING_FACE_API\")"
   ]
  },
  {
   "cell_type": "code",
   "execution_count": 9,
   "id": "c7fe62ce",
   "metadata": {},
   "outputs": [],
   "source": [
    "from llama_index.core import VectorStoreIndex, SimpleDirectoryReader\n",
    "from llama_index.core.node_parser import SemanticSplitterNodeParser\n",
    "from llama_index.embeddings.huggingface import HuggingFaceEmbedding\n",
    "from huggingface_hub import InferenceClient\n",
    "from llama_index.core import Document"
   ]
  },
  {
   "cell_type": "code",
   "execution_count": 5,
   "id": "5576a350",
   "metadata": {},
   "outputs": [],
   "source": [
    "documents = SimpleDirectoryReader(\"data\").load_data()"
   ]
  },
  {
   "cell_type": "code",
   "execution_count": 6,
   "id": "ec4d5952",
   "metadata": {},
   "outputs": [
    {
     "name": "stdout",
     "output_type": "stream",
     "text": [
      "Loaded 1 documents\n",
      "\n",
      "\n",
      "From fairest creatures we desire increase,\n",
      "That thereby beauty's rose might never die,\n",
      "But as the riper should by time decease,\n",
      "His tender heir might bear his memory:\n",
      "But thou contracted to thine own bright eyes,\n",
      "Feed'st thy light's flame with self-substantial fuel,\n",
      "Making a famine where abundance lies,\n",
      "Thy self thy foe, to thy sweet self too cruel:\n",
      "Thou that art now the world's fresh ornament,\n",
      "And only herald to the gaudy spring,\n",
      "Within thine own bud buriest thy content,\n",
      "And, tender \n"
     ]
    }
   ],
   "source": [
    "print(f\"Loaded {len(documents)} documents\\n\\n\")\n",
    "print(documents[0].text[:500])  # Show a preview of the first doc"
   ]
  },
  {
   "cell_type": "code",
   "execution_count": 10,
   "id": "ba571536",
   "metadata": {},
   "outputs": [],
   "source": [
    "embed_model = HuggingFaceEmbedding(model_name=\"sentence-transformers/all-MiniLM-L6-v2\")"
   ]
  },
  {
   "cell_type": "code",
   "execution_count": 10,
   "id": "15b386af",
   "metadata": {},
   "outputs": [
    {
     "name": "stdout",
     "output_type": "stream",
     "text": [
      "model_name='sentence-transformers/all-MiniLM-L6-v2' embed_batch_size=10 callback_manager=<llama_index.core.callbacks.base.CallbackManager object at 0x7b0fd0858610> num_workers=None embeddings_cache=None max_length=256 normalize=True query_instruction=None text_instruction=None cache_folder=None show_progress_bar=False\n"
     ]
    }
   ],
   "source": [
    "print(embed_model)"
   ]
  },
  {
   "cell_type": "code",
   "execution_count": 13,
   "id": "070e3a86",
   "metadata": {},
   "outputs": [],
   "source": [
    "splitter = SemanticSplitterNodeParser.from_defaults(\n",
    "    embed_model=embed_model,\n",
    "    buffer_size=1,\n",
    "    breakpoint_percentile_threshold=95,\n",
    "    include_metadata=True,\n",
    "    include_prev_next_rel=True,\n",
    ")\n"
   ]
  },
  {
   "cell_type": "code",
   "execution_count": null,
   "id": "3e9deb5e",
   "metadata": {},
   "outputs": [
    {
     "name": "stdout",
     "output_type": "stream",
     "text": [
      "Created 29 semantic nodes\n",
      "From fairest creatures we desire increase,\n",
      "That thereby beauty's rose might never die,\n",
      "But as the riper should by time decease,\n",
      "His tender heir might bear his memory:\n",
      "But thou contracted to thine own bright eyes,\n",
      "Feed'st thy light's flame with self-substantial fuel,\n",
      "Making a famine where abund\n"
     ]
    }
   ],
   "source": [
    "nodes = splitter.get_nodes_from_documents(documents)\n",
    "print(f\"Created {len(nodes)} semantic nodes\")\n",
    "print(nodes[0].text[:300])  # View first chunk"
   ]
  },
  {
   "cell_type": "code",
   "execution_count": 15,
   "id": "44336071",
   "metadata": {},
   "outputs": [],
   "source": [
    "index = VectorStoreIndex(nodes, embed_model=embed_model)"
   ]
  },
  {
   "cell_type": "code",
   "execution_count": 12,
   "id": "d90bf829",
   "metadata": {},
   "outputs": [
    {
     "name": "stdout",
     "output_type": "stream",
     "text": [
      "<llama_index.core.indices.vector_store.base.VectorStoreIndex object at 0x7b0eb2b7a440>\n"
     ]
    }
   ],
   "source": [
    "print(index)"
   ]
  },
  {
   "cell_type": "code",
   "execution_count": 16,
   "id": "7dfcc5ae",
   "metadata": {},
   "outputs": [],
   "source": [
    "from llama_index.vector_stores.pinecone import PineconeVectorStore\n",
    "from pinecone import Pinecone, ServerlessSpec"
   ]
  },
  {
   "cell_type": "code",
   "execution_count": 17,
   "id": "2f38019b",
   "metadata": {},
   "outputs": [],
   "source": [
    "pc = Pinecone(api_key=PINECONE_API_KEY)\n",
    "\n",
    "index_name = \"rag-llamaindex\"\n",
    "embedding_dim = 384\n",
    "\n",
    "# Create index if it doesn't exist\n",
    "if index_name not in pc.list_indexes().names():\n",
    "    pc.create_index(\n",
    "        name=index_name,\n",
    "        dimension=embedding_dim,\n",
    "        metric=\"cosine\",\n",
    "        spec=ServerlessSpec(\n",
    "            cloud=PINECONE_CLOUD,\n",
    "            region=PINECONE_REGION\n",
    "        )\n",
    "    )"
   ]
  },
  {
   "cell_type": "code",
   "execution_count": 18,
   "id": "4c11bd40",
   "metadata": {},
   "outputs": [],
   "source": [
    "# Connect to the Pinecone index\n",
    "pinecone_index = pc.Index(index_name)\n",
    "\n",
    "# Create LlamaIndex Pinecone vector store wrapper\n",
    "vector_store = PineconeVectorStore(pinecone_index=pinecone_index)"
   ]
  },
  {
   "cell_type": "code",
   "execution_count": null,
   "id": "22d2ceae",
   "metadata": {},
   "outputs": [],
   "source": [
    "# retriever = index.as_retriever()\n",
    "# results = retriever.retrieve(\"What do they say about the painter\")\n",
    "\n",
    "# # Build prompt with text and metadata\n",
    "# context_blocks = []\n",
    "\n",
    "# for i, node in enumerate(results):\n",
    "#     metadata = node.metadata or {}\n",
    "#     page_number = metadata.get(\"page_number\", \"N/A\")\n",
    "#     source = metadata.get(\"file_name\", \"Unknown Source\")\n",
    "\n",
    "#     block = f\"\"\"\n",
    "# [Document {i+1}]\n",
    "# Source: {source}\n",
    "# Page: {page_number}\n",
    "# Content:\n",
    "# {sonnet_docs[i].text}\n",
    "# \"\"\"\n",
    "#     context_blocks.append(block)\n",
    "\n",
    "# retrieved_text = \"\\n\".join(context_blocks)\n"
   ]
  },
  {
   "cell_type": "code",
   "execution_count": null,
   "id": "3da16198",
   "metadata": {},
   "outputs": [
    {
     "name": "stdout",
     "output_type": "stream",
     "text": [
      "--- Document 1 ---\n",
      "[Document 1]\n",
      "Source: data/Sonnets.txt\n",
      "Page: N/A\n",
      "Content:\n",
      "From fairest creatures we desire increase,\n",
      "That thereby beauty's rose might never die,\n",
      "But as the riper should by time decease,\n",
      "His tender heir might bear his memory:\n",
      "But thou contracted to thine own bright eyes,\n",
      "Feed'st thy light's flame with self-substantial fuel,\n",
      "Making a famine where abundance lies,\n",
      "Thy self thy foe, to thy sweet self too cruel:\n",
      "Thou that art now the world's fresh ornament,\n",
      "And only herald to the gaudy spring,\n",
      "Within thine own bud buriest thy content,\n",
      "And, tender churl, mak'st waste in niggarding:\n",
      "Pity the world, or else this glutton be,\n",
      "To eat the world's due, by the grave and thee.\n",
      "\n",
      "\n",
      "--- Document 2 ---\n",
      "[Document 2]\n",
      "Source: data/Sonnets.txt\n",
      "Page: N/A\n",
      "Content:\n",
      "When forty winters shall besiege thy brow,\n",
      "And dig deep trenches in thy beauty's field,\n",
      "Thy youth's proud livery so gazed on now,\n",
      "Will be a totter'd weed of small worth held:\n",
      "Then being asked, where all thy beauty lies,\n",
      "Where all the treasure of thy lusty days;\n",
      "To say, within thine own deep sunken eyes,\n",
      "Were an all-eating shame, and thriftless praise.\n",
      "How much more praise deserv'd thy beauty's use,\n",
      "If thou couldst answer 'This fair child of mine\n",
      "Shall sum my count, and make my old excuse,'\n",
      "Proving his beauty by succession thine!\n",
      "This were to be new made when thou art old,\n",
      "And see thy blood warm when thou feel'st it cold.\n",
      "\n",
      "\n"
     ]
    }
   ],
   "source": [
    "# for i, block in enumerate(context_blocks, start=1):\n",
    "#     print(f\"--- Document {i} ---\")\n",
    "#     print(block.strip())\n",
    "#     print(\"\\n\")  # Extra newline for spacing"
   ]
  },
  {
   "cell_type": "code",
   "execution_count": 40,
   "id": "b3efa487",
   "metadata": {},
   "outputs": [
    {
     "data": {
      "text/plain": [
       "'\\n[Document 1]\\nSource: data/Sonnets.txt\\nPage: N/A\\nContent:\\n\\n\\n\\n[Document 2]\\nSource: data/Sonnets.txt\\nPage: N/A\\nContent:\\n\\n'"
      ]
     },
     "execution_count": 40,
     "metadata": {},
     "output_type": "execute_result"
    }
   ],
   "source": [
    "retrieved_text"
   ]
  },
  {
   "cell_type": "code",
   "execution_count": 21,
   "id": "55d1a0e6",
   "metadata": {},
   "outputs": [
    {
     "name": "stdout",
     "output_type": "stream",
     "text": [
      "[\"\\n[Document 1]\\nTitle: Unknown\\nLines: N/A\\nContent:\\nblame me not, if I no more can write!\\r\\nLook in your glass, and there appears a face\\r\\nThat over-goes my blunt invention quite,\\r\\nDulling my lines, and doing me disgrace.\\r\\nWere it not sinful then, striving to mend,\\r\\nTo mar the subject that before was well?\\r\\nFor to no other pass my verses tend\\r\\nThan of your graces and your gifts to tell;\\r\\nAnd more, much more, than in my verse can sit,\\r\\nYour own glass shows you when you look in it.\\r\\n\\r\\nTo me, fair friend, you never can be old,\\r\\nFor as you were when first your eye I ey'd,\\r\\nSuch seems your beauty still. Three winters cold,\\r\\nHave from the forests shook three summers' pride,\\r\\nThree beauteous springs to yellow autumn turned,\\r\\nIn process of the seasons have I seen,\\r\\nThree April perfumes in three hot Junes burned,\\r\\nSince first I saw you fresh, which yet are green.\\r\\nAh! yet doth beauty like a dial-hand,\\r\\nSteal from his figure, and no pace perceived;\\r\\nSo your sweet hue, which methinks still doth stand,\\r\\nHath motion, and mine eye may be deceived:\\r\\nFor fear of which, hear this thou age unbred:\\r\\nEre you were born was beauty's summer dead.\\r\\n\\r\\nLet not my love be called idolatry,\\r\\nNor my beloved as an idol show,\\r\\nSince all alike my songs and praises be\\r\\nTo one, of one, still such, and ever so.\\r\\nKind is my love to-day, to-morrow kind,\\r\\nStill constant in a wondrous excellence;\\r\\nTherefore my verse to constancy confined,\\r\\nOne thing expressing, leaves out difference.\\r\\nFair, kind, and true, is all my argument,\\r\\nFair, kind, and true, varying to other words;\\r\\nAnd in this change is my invention spent,\\r\\nThree themes in one, which wondrous scope affords.\\r\\nFair, kind, and true, have often lived alone,\\r\\nWhich three till now, never kept seat in one.\\r\\n\\r\\nWhen in the chronicle of wasted time\\r\\nI see descriptions of the fairest wights,\\r\\nAnd beauty making beautiful old rhyme,\\r\\nIn praise of ladies dead and lovely knights,\\r\\nThen, in the blazon of sweet beauty's best,\\r\\nOf hand, of foot, of lip, of eye, of brow,\\r\\nI see their antique pen would have expressed\\r\\nEven such a beauty as you master now.\\r\\nSo all their praises are but prophecies\\r\\nOf this our time, all you prefiguring;\\r\\nAnd for they looked but with divining eyes,\\r\\nThey had not skill enough your worth to sing:\\r\\nFor we, which now behold these present days,\\r\\nHave eyes to wonder, but lack tongues to praise.\\r\\n\\r\\nNot mine own fears, nor the prophetic soul\\r\\nOf the wide world dreaming on things to come,\\r\\nCan yet the lease of my true love control,\\r\\nSupposed as forfeit to a confined doom.\\r\\nThe mortal moon hath her eclipse endured,\\r\\nAnd the sad augurs mock their own presage;\\r\\nIncertainties now crown themselves assured,\\r\\nAnd peace proclaims olives of endless age.\\r\\nNow with the drops of this most balmy time,\\r\\nMy love looks fresh, and Death to me subscribes,\\r\\nSince, spite of him, I'll live in this poor rhyme,\\r\\nWhile he insults o'er dull and speechless tribes:\\r\\nAnd thou in this shalt find thy monument,\\r\\nWhen tyrants' crests and tombs of brass are spent.\\r\\n\\r\\nWhat's in the brain that ink may character\\r\\nWhich hath not figured to thee my true spirit?\\r\\nWhat's new to speak, what now to register,\\r\\nThat may express my love, or thy dear merit?\\r\\nNothing, sweet boy; but yet, like prayers divine,\\r\\nI must each day say o'er the very same;\\r\\nCounting no old thing old, thou mine, I thine,\\r\\nEven as when first I hallowed thy fair name.\\r\\nSo that eternal love in love's fresh case,\\r\\nWeighs not the dust and injury of age,\\r\\nNor gives to necessary wrinkles place,\\r\\nBut makes antiquity for aye his page;\\r\\nFinding the first conceit of love there bred,\\r\\nWhere time and outward form would show it dead.\\r\\n\\r\\nO! never say that I was false of heart,\\r\\nThough absence seemed my flame to qualify,\\r\\nAs easy might I from my self depart\\r\\nAs from my soul which in thy breast doth lie:\\r\\nThat is my home of love: if I have ranged,\\r\\nLike him that travels, I return again;\\r\\nJust to the time, not with the time exchanged,\\r\\nSo that myself bring water for my stain.\\r\\nNever believe though in my nature reigned,\\r\\nAll frailties that besiege all kinds of blood,\\r\\nThat it could so preposterously be stained,\\r\\nTo leave for nothing all thy sum of good;\\r\\nFor nothing this wide universe I call,\\r\\nSave thou, my rose, in it thou art my all.\\r\\n\\r\\nAlas! 'tis true, I have gone here and there,\\r\\nAnd made my self a motley to the view,\\r\\nGored mine own thoughts, sold cheap what is most dear,\\r\\nMade old offences of affections new;\\r\\nMost true it is, that I have looked on truth\\r\\nAskance and strangely; but, by all above,\\r\\nThese blenches gave my heart another youth,\\r\\nAnd worse essays proved thee my best of love.\\r\\nNow all is done, have what shall have no end:\\r\\nMine appetite I never more will grind\\r\\nOn newer proof, to try an older friend,\\r\\nA god in love, to whom I am confined.\\r\\nThen give me welcome, next my heaven the best,\\r\\nEven to thy pure and most most loving breast.\\r\\n\\r\\nO! for my sake do you with Fortune chide,\\r\\nThe guilty goddess of my harmful deeds,\\r\\nThat did not better for my life provide\\r\\nThan public means which public manners breeds.\\r\\nThence comes it that my name receives a brand,\\r\\nAnd almost thence my nature is subdued\\r\\nTo what it works in, like the dyer's hand:\\r\\nPity me, then, and wish I were renewed;\\r\\nWhilst, like a willing patient, I will drink\\r\\nPotions of eisel 'gainst my strong infection;\\r\\nNo bitterness that I will bitter think,\\r\\nNor double penance, to correct correction.\\r\\nPity me then, dear friend, and I assure ye,\\r\\nEven that your pity is enough to cure me.\\r\\n\\r\\nYour love and pity doth the impression fill,\\r\\nWhich vulgar scandal stamped upon my brow;\\r\\nFor what care I who calls me well or ill,\\r\\nSo you o'er-green my bad, my good allow?\\r\\nYou are my all-the-world, and I must strive\\r\\nTo know my shames and praises from your tongue;\\r\\nNone else to me, nor I to none alive,\\r\\nThat my steeled sense or changes right or wrong.\\r\\nIn so profound abysm I throw all care\\r\\nOf others' voices, that my adder's sense\\r\\nTo critic and to flatterer stopped are.\\r\\nMark how with my neglect I do dispense:\\r\\nYou are so strongly in my purpose bred,\\r\\nThat all the world besides methinks y'are dead.\\r\\n\\r\\nSince I left you, mine eye is in my mind;\\r\\nAnd that which governs me to go about\\r\\nDoth part his function and is partly blind,\\r\\nSeems seeing, but effectually is out;\\r\\nFor it no form delivers to the heart\\r\\nOf bird, of flower, or shape which it doth latch:\\r\\nOf his quick objects hath the mind no part,\\r\\nNor his own vision holds what it doth catch;\\r\\nFor if it see the rud'st or gentlest sight,\\r\\nThe most sweet favour or deformed'st creature,\\r\\nThe mountain or the sea, the day or night,\\r\\nThe crow, or dove, it shapes them to your feature.\\r\\nIncapable of more, replete with you,\\r\\nMy most true mind thus maketh mine eye untrue.\\r\\n\\r\\nOr whether doth my mind, being crowned with you,\\r\\nDrink up the monarch's plague, this flattery?\\r\\nOr whether shall I say, mine eye saith true,\\r\\nAnd that your love taught it this alchemy,\\r\\nTo make of monsters and things indigest\\r\\nSuch cherubins as your sweet self resemble,\\r\\nCreating every bad a perfect best,\\r\\nAs fast as objects to his beams assemble?\\r\\nO! 'tis the first, 'tis flattery in my seeing,\\r\\nAnd my great mind most kingly drinks it up:\\r\\nMine eye well knows what with his gust is 'greeing,\\r\\nAnd to his palate doth prepare the cup:\\r\\nIf it be poisoned, 'tis the lesser sin\\r\\nThat mine eye loves it and doth first begin.\\r\\n\\r\\nThose lines that I before have writ do lie,\\r\\nEven those that said I could not love you dearer:\\r\\nYet then my judgment knew no reason why\\r\\nMy most full flame should afterwards burn clearer.\\r\\nBut reckoning Time, whose million'd accidents\\r\\nCreep in 'twixt vows, and change decrees of kings,\\r\\nTan sacred beauty, blunt the sharp'st intents,\\r\\nDivert strong minds to the course of altering things;\\r\\nAlas! why, fearing of Time's tyranny,\\r\\nMight I not then say, 'Now I love you best,'\\r\\nWhen I was certain o'er incertainty,\\r\\nCrowning the present, doubting of the rest?\\r\\nLove is a babe, then might I not say so,\\r\\nTo give full growth to that which still doth grow?\\r\\n\\r\\nLet me not to the marriage of true minds\\r\\nAdmit impediments. Love is not love\\r\\nWhich alters when it alteration finds,\\r\\nOr bends with the remover to remove:\\r\\nO, no! it is an ever-fixed mark,\\r\\nThat looks on tempests and is never shaken;\\r\\nIt is the star to every wandering bark,\\r\\nWhose worth's unknown, although his height be taken.\\r\\nLove's not Time's fool, though rosy lips and cheeks\\r\\nWithin his bending sickle's compass come;\\r\\nLove alters not with his brief hours and weeks,\\r\\nBut bears it out even to the edge of doom.\\r\\n  If this be error and upon me proved,\\r\\n  I never writ, nor no man ever loved.\\r\\n\\r\\nAccuse me thus: that I have scanted all,\\r\\nWherein I should your great deserts repay,\\r\\nForgot upon your dearest love to call,\\r\\nWhereto all bonds do tie me day by day;\\r\\nThat I have frequent been with unknown minds,\\r\\nAnd given to time your own dear-purchased right;\\r\\nThat I have hoisted sail to all the winds\\r\\nWhich should transport me farthest from your sight.\\r\\nBook both my wilfulness and errors down,\\r\\nAnd on just proof surmise accumulate;\\r\\nBring me within the level of your frown,\\r\\nBut shoot not at me in your wakened hate;\\r\\nSince my appeal says I did strive to prove\\r\\nThe constancy and virtue of your love.\\r\\n\\r\\nLike as, to make our appetites more keen,\\r\\nWith eager compounds we our palate urge;\\r\\nAs, to prevent our maladies unseen,\\r\\nWe sicken to shun sickness when we purge;\\r\\nEven so, being full of your ne'er-cloying sweetness,\\r\\nTo bitter sauces did I frame my feeding;\\r\\nAnd, sick of welfare, found a kind of meetness\\r\\nTo be diseased, ere that there was true needing.\\r\\nThus policy in love, to anticipate\\r\\nThe ills that were not, grew to faults assured,\\r\\nAnd brought to medicine a healthful state\\r\\nWhich, rank of goodness, would by ill be cured;\\r\\nBut thence I learn and find the lesson true,\\r\\nDrugs poison him that so fell sick of you.\\r\\n\\r\\nWhat potions have I drunk of Siren tears,\\r\\nDistilled from limbecks foul as hell within,\\r\\nApplying fears to hopes, and hopes to fears,\\r\\nStill losing when I saw myself to win!\\r\\nWhat wretched errors hath my heart committed,\\r\\nWhilst it hath thought itself so blessed never!\\r\\nHow have mine eyes out of their spheres been fitted,\\r\\nIn the distraction of this madding fever!\\r\\nO benefit of ill! now I find true\\r\\nThat better is by evil still made better;\\r\\nAnd ruined love, when it is built anew,\\r\\nGrows fairer than at first, more strong, far greater.\\r\\nSo I return rebuked to my content,\\r\\nAnd gain by ills thrice more than I have spent.\\r\\n\\r\\nThat you were once unkind befriends me now,\\r\\nAnd for that sorrow, which I then did feel,\\r\\nNeeds must I under my transgression bow,\\r\\nUnless my nerves were brass or hammered steel.\\r\\nFor if you were by my unkindness shaken,\\r\\nAs I by yours, you've passed a hell of time;\\r\\nAnd I, a tyrant, have no leisure taken\\r\\nTo weigh how once I suffered in your crime.\\r\\nO! that our night of woe might have remembered\\r\\nMy deepest sense, how hard true sorrow hits,\\r\\nAnd soon to you, as you to me, then tendered\\r\\nThe humble salve, which wounded bosoms fits!\\r\\nBut that your trespass now becomes a fee;\\r\\nMine ransoms yours, and yours must ransom me.\\r\\n\\r\\n'Tis better to be vile than vile esteemed,\\r\\nWhen not to be receives reproach of being;\\r\\nAnd the just pleasure lost, which is so deemed\\r\\nNot by our feeling, but by others' seeing:\\r\\nFor why should others' false adulterate eyes\\r\\nGive salutation to my sportive blood?\\r\\nOr on my frailties why are frailer spies,\\r\\nWhich in their wills count bad what I think good?\\r\\nNo, I am that I am, and they that level\\r\\nAt my abuses reckon up their own:\\r\\nI may be straight though they themselves be bevel;\\r\\nBy their rank thoughts, my deeds must not be shown;\\r\\nUnless this general evil they maintain,\\r\\nAll men are bad and in their badness reign.\\r\\n\\r\\nThy gift, thy tables, are within my brain\\r\\nFull charactered with lasting memory,\\r\\nWhich shall above that idle rank remain,\\r\\nBeyond all date, even to eternity:\\r\\nOr, at the least, so long as brain and heart\\r\\nHave faculty by nature to subsist;\\r\\nTill each to razed oblivion yield his part\\r\\nOf thee, thy record never can be missed.\\r\\nThat poor retention could not so much hold,\\r\\nNor need I tallies thy dear love to score;\\r\\nTherefore to give them from me was I bold,\\r\\nTo trust those tables that receive thee more:\\r\\nTo keep an adjunct to remember thee\\r\\nWere to import forgetfulness in me.\\r\\n\\r\\nNo, Time, thou shalt not boast that I do change:\\r\\nThy pyramids built up with newer might\\r\\nTo me are nothing novel, nothing strange;\\r\\nThey are but dressings of a former sight.\\r\\nOur dates are brief, and therefore we admire\\r\\nWhat thou dost foist upon us that is old;\\r\\nAnd rather make them born to our desire\\r\\nThan think that we before have heard them told.\\r\\nThy registers and thee I both defy,\\r\\nNot wondering at the present nor the past,\\r\\nFor thy records and what we see doth lie,\\r\\nMade more or less by thy continual haste.\\r\\nThis I do vow and this shall ever be;\\r\\nI will be true despite thy scythe and thee.\\r\\n\\r\\nIf my dear love were but the child of state,\\r\\nIt might for Fortune's bastard be unfathered,\\r\\nAs subject to Time's love or to Time's hate,\\r\\nWeeds among weeds, or flowers with flowers gathered.\\r\\nNo, it was builded far from accident;\\r\\nIt suffers not in smiling pomp, nor falls\\r\\nUnder the blow of thralled discontent,\\r\\nWhereto th' inviting time our fashion calls:\\r\\nIt fears not policy, that heretic,\\r\\nWhich works on leases of short-number'd hours,\\r\\nBut all alone stands hugely politic,\\r\\nThat it nor grows with heat, nor drowns with showers.\\r\\n\\n\", \"\\n[Document 2]\\nTitle: Unknown\\nLines: N/A\\nContent:\\nhim she stores, to show what wealth she had\\r\\nIn days long since, before these last so bad.\\r\\n\\r\\nThus is his cheek the map of days outworn,\\r\\nWhen beauty lived and died as flowers do now,\\r\\nBefore these bastard signs of fair were born,\\r\\nOr durst inhabit on a living brow;\\r\\nBefore the golden tresses of the dead,\\r\\nThe right of sepulchres, were shorn away,\\r\\nTo live a second life on second head;\\r\\nEre beauty's dead fleece made another gay:\\r\\nIn him those holy antique hours are seen,\\r\\nWithout all ornament, itself and true,\\r\\nMaking no summer of another's green,\\r\\nRobbing no old to dress his beauty new;\\r\\nAnd him as for a map doth Nature store,\\r\\nTo show false Art what beauty was of yore.\\r\\n\\r\\nThose parts of thee that the world's eye doth view\\r\\nWant nothing that the thought of hearts can mend;\\r\\nAll tongues, the voice of souls, give thee that due,\\r\\nUttering bare truth, even so as foes commend.\\r\\nThy outward thus with outward praise is crown'd;\\r\\nBut those same tongues, that give thee so thine own,\\r\\nIn other accents do this praise confound\\r\\nBy seeing farther than the eye hath shown.\\r\\nThey look into the beauty of thy mind,\\r\\nAnd that in guess they measure by thy deeds;\\r\\nThen, churls, their thoughts, although their eyes were kind,\\r\\nTo thy fair flower add the rank smell of weeds:\\r\\nBut why thy odour matcheth not thy show,\\r\\nThe soil is this, that thou dost common grow.\\r\\n\\r\\nThat thou art blamed shall not be thy defect,\\r\\nFor slander's mark was ever yet the fair;\\r\\nThe ornament of beauty is suspect,\\r\\nA crow that flies in heaven's sweetest air.\\r\\nSo thou be good, slander doth but approve\\r\\nThy worth the greater, being wooed of time;\\r\\nFor canker vice the sweetest buds doth love,\\r\\nAnd thou present'st a pure unstained prime.\\r\\nThou hast passed by the ambush of young days\\r\\nEither not assailed, or victor being charged;\\r\\nYet this thy praise cannot be so thy praise,\\r\\nTo tie up envy, evermore enlarged,\\r\\nIf some suspect of ill masked not thy show,\\r\\nThen thou alone kingdoms of hearts shouldst owe.\\r\\n\\r\\nNo longer mourn for me when I am dead\\r\\nThan you shall hear the surly sullen bell\\r\\nGive warning to the world that I am fled\\r\\nFrom this vile world with vilest worms to dwell:\\r\\nNay, if you read this line, remember not\\r\\nThe hand that writ it, for I love you so,\\r\\nThat I in your sweet thoughts would be forgot,\\r\\nIf thinking on me then should make you woe.\\r\\nO! if, I say, you look upon this verse,\\r\\nWhen I perhaps compounded am with clay,\\r\\nDo not so much as my poor name rehearse;\\r\\nBut let your love even with my life decay;\\r\\nLest the wise world should look into your moan,\\r\\nAnd mock you with me after I am gone.\\r\\n\\r\\nO! lest the world should task you to recite\\r\\nWhat merit lived in me, that you should love\\r\\nAfter my death,--dear love, forget me quite,\\r\\nFor you in me can nothing worthy prove.\\r\\nUnless you would devise some virtuous lie,\\r\\nTo do more for me than mine own desert,\\r\\nAnd hang more praise upon deceased I\\r\\nThan niggard truth would willingly impart:\\r\\nO! lest your true love may seem false in this\\r\\nThat you for love speak well of me untrue,\\r\\nMy name be buried where my body is,\\r\\nAnd live no more to shame nor me nor you.\\r\\nFor I am shamed by that which I bring forth,\\r\\nAnd so should you, to love things nothing worth.\\r\\n\\r\\nThat time of year thou mayst in me behold\\r\\nWhen yellow leaves, or none, or few, do hang\\r\\nUpon those boughs which shake against the cold,\\r\\nBare ruined choirs, where late the sweet birds sang.\\r\\nIn me thou see'st the twilight of such day\\r\\nAs after sunset fadeth in the west;\\r\\nWhich by and by black night doth take away,\\r\\nDeath's second self, that seals up all in rest.\\r\\nIn me thou see'st the glowing of such fire,\\r\\nThat on the ashes of his youth doth lie,\\r\\nAs the death-bed, whereon it must expire,\\r\\nConsumed with that which it was nourish'd by.\\r\\nThis thou perceiv'st, which makes thy love more strong,\\r\\nTo love that well, which thou must leave ere long.\\r\\n\\r\\nBut be contented when that fell arrest\\r\\nWithout all bail shall carry me away,\\r\\nMy life hath in this line some interest,\\r\\nWhich for memorial still with thee shall stay.\\r\\nWhen thou reviewest this, thou dost review\\r\\nThe very part was consecrate to thee:\\r\\nThe earth can have but earth, which is his due;\\r\\nMy spirit is thine, the better part of me:\\r\\nSo then thou hast but lost the dregs of life,\\r\\nThe prey of worms, my body being dead;\\r\\nThe coward conquest of a wretch's knife,\\r\\nToo base of thee to be remembered.\\r\\nThe worth of that is that which it contains,\\r\\nAnd that is this, and this with thee remains.\\r\\n\\r\\nSo are you to my thoughts as food to life,\\r\\nOr as sweet-season'd showers are to the ground;\\r\\nAnd for the peace of you I hold such strife\\r\\nAs 'twixt a miser and his wealth is found.\\r\\nNow proud as an enjoyer, and anon\\r\\nDoubting the filching age will steal his treasure;\\r\\nNow counting best to be with you alone,\\r\\nThen better'd that the world may see my pleasure:\\r\\nSometime all full with feasting on your sight,\\r\\nAnd by and by clean starved for a look;\\r\\nPossessing or pursuing no delight\\r\\nSave what is had, or must from you be took.\\r\\nThus do I pine and surfeit day by day,\\r\\nOr gluttoning on all, or all away.\\r\\n\\r\\nWhy is my verse so barren of new pride,\\r\\nSo far from variation or quick change?\\r\\nWhy with the time do I not glance aside\\r\\nTo new-found methods, and to compounds strange?\\r\\nWhy write I still all one, ever the same,\\r\\nAnd keep invention in a noted weed,\\r\\nThat every word doth almost tell my name,\\r\\nShowing their birth, and where they did proceed?\\r\\nO! know sweet love I always write of you,\\r\\nAnd you and love are still my argument;\\r\\nSo all my best is dressing old words new,\\r\\nSpending again what is already spent:\\r\\nFor as the sun is daily new and old,\\r\\nSo is my love still telling what is told.\\r\\n\\r\\nThy glass will show thee how thy beauties wear,\\r\\nThy dial how thy precious minutes waste;\\r\\nThe vacant leaves thy mind's imprint will bear,\\r\\nAnd of this book, this learning mayst thou taste.\\r\\nThe wrinkles which thy glass will truly show\\r\\nOf mouthed graves will give thee memory;\\r\\nThou by thy dial's shady stealth mayst know\\r\\nTime's thievish progress to eternity.\\r\\nLook what thy memory cannot contain,\\r\\nCommit to these waste blanks, and thou shalt find\\r\\nThose children nursed, delivered from thy brain,\\r\\nTo take a new acquaintance of thy mind.\\r\\nThese offices, so oft as thou wilt look,\\r\\nShall profit thee and much enrich thy book.\\r\\n\\r\\nSo oft have I invoked thee for my Muse,\\r\\nAnd found such fair assistance in my verse\\r\\nAs every alien pen hath got my use\\r\\nAnd under thee their poesy disperse.\\r\\nThine eyes, that taught the dumb on high to sing\\r\\nAnd heavy ignorance aloft to fly,\\r\\nHave added feathers to the learned's wing\\r\\nAnd given grace a double majesty.\\r\\nYet be most proud of that which I compile,\\r\\nWhose influence is thine, and born of thee:\\r\\nIn others' works thou dost but mend the style,\\r\\nAnd arts with thy sweet graces graced be;\\r\\nBut thou art all my art, and dost advance\\r\\nAs high as learning, my rude ignorance.\\r\\n\\r\\nWhilst I alone did call upon thy aid,\\r\\nMy verse alone had all thy gentle grace;\\r\\nBut now my gracious numbers are decayed,\\r\\nAnd my sick Muse doth give an other place.\\r\\nI grant, sweet love, thy lovely argument\\r\\nDeserves the travail of a worthier pen;\\r\\nYet what of thee thy poet doth invent\\r\\nHe robs thee of, and pays it thee again.\\r\\nHe lends thee virtue, and he stole that word\\r\\nFrom thy behaviour; beauty doth he give,\\r\\nAnd found it in thy cheek: he can afford\\r\\nNo praise to thee, but what in thee doth live.\\r\\nThen thank him not for that which he doth say,\\r\\nSince what he owes thee, thou thyself dost pay.\\r\\n\\r\\nO! how I faint when I of you do write,\\r\\nKnowing a better spirit doth use your name,\\r\\nAnd in the praise thereof spends all his might,\\r\\nTo make me tongue-tied speaking of your fame.\\r\\nBut since your worth, wide as the ocean is,\\r\\nThe humble as the proudest sail doth bear,\\r\\nMy saucy bark, inferior far to his,\\r\\nOn your broad main doth wilfully appear.\\r\\nYour shallowest help will hold me up afloat,\\r\\nWhilst he upon your soundless deep doth ride;\\r\\nOr, being wracked, I am a worthless boat,\\r\\nHe of tall building, and of goodly pride:\\r\\nThen if he thrive and I be cast away,\\r\\nThe worst was this, my love was my decay.\\r\\n\\r\\nOr I shall live your epitaph to make,\\r\\nOr you survive when I in earth am rotten,\\r\\nFrom hence your memory death cannot take,\\r\\nAlthough in me each part will be forgotten.\\r\\nYour name from hence immortal life shall have,\\r\\nThough I, once gone, to all the world must die:\\r\\nThe earth can yield me but a common grave,\\r\\nWhen you entombed in men's eyes shall lie.\\r\\nYour monument shall be my gentle verse,\\r\\nWhich eyes not yet created shall o'er-read;\\r\\nAnd tongues to be your being shall rehearse,\\r\\nWhen all the breathers of this world are dead;\\r\\nYou still shall live, such virtue hath my pen,\\r\\nWhere breath most breathes, even in the mouths of men.\\r\\n\\r\\nI grant thou wert not married to my Muse,\\r\\nAnd therefore mayst without attaint o'erlook\\r\\nThe dedicated words which writers use\\r\\nOf their fair subject, blessing every book.\\r\\nThou art as fair in knowledge as in hue,\\r\\nFinding thy worth a limit past my praise;\\r\\nAnd therefore art enforced to seek anew\\r\\nSome fresher stamp of the time-bettering days.\\r\\nAnd do so, love; yet when they have devised,\\r\\nWhat strained touches rhetoric can lend,\\r\\nThou truly fair, wert truly sympathized\\r\\nIn true plain words, by thy true-telling friend;\\r\\nAnd their gross painting might be better used\\r\\nWhere cheeks need blood; in thee it is abused.\\r\\n\\r\\nI never saw that you did painting need,\\r\\nAnd therefore to your fair no painting set;\\r\\nI found, or thought I found, you did exceed\\r\\nThe barren tender of a poet's debt:\\r\\nAnd therefore have I slept in your report,\\r\\nThat you yourself, being extant, well might show\\r\\nHow far a modern quill doth come too short,\\r\\nSpeaking of worth, what worth in you doth grow.\\r\\nThis silence for my sin you did impute,\\r\\nWhich shall be most my glory being dumb;\\r\\nFor I impair not beauty being mute,\\r\\nWhen others would give life, and bring a tomb.\\r\\nThere lives more life in one of your fair eyes\\r\\nThan both your poets can in praise devise.\\r\\n\\r\\nWho is it that says most, which can say more,\\r\\nThan this rich praise, that you alone, are you,\\r\\nIn whose confine immured is the store\\r\\nWhich should example where your equal grew?\\r\\nLean penury within that pen doth dwell\\r\\nThat to his subject lends not some small glory;\\r\\nBut he that writes of you, if he can tell\\r\\nThat you are you, so dignifies his story.\\r\\nLet him but copy what in you is writ,\\r\\nNot making worse what nature made so clear,\\r\\nAnd such a counterpart shall fame his wit,\\r\\nMaking his style admired every where.\\r\\nYou to your beauteous blessings add a curse,\\r\\nBeing fond on praise, which makes your praises worse.\\r\\n\\r\\nMy tongue-tied Muse in manners holds her still,\\r\\nWhile comments of your praise richly compiled,\\r\\nReserve thy character with golden quill,\\r\\nAnd precious phrase by all the Muses filed.\\r\\nI think good thoughts, whilst others write good words,\\r\\nAnd like unlettered clerk still cry 'Amen'\\r\\nTo every hymn that able spirit affords,\\r\\nIn polished form of well-refined pen.\\r\\nHearing you praised, I say ''tis so, 'tis true,'\\r\\nAnd to the most of praise add something more;\\r\\nBut that is in my thought, whose love to you,\\r\\nThough words come hindmost, holds his rank before.\\r\\nThen others, for the breath of words respect,\\r\\nMe for my dumb thoughts, speaking in effect.\\r\\n\\r\\nWas it the proud full sail of his great verse,\\r\\nBound for the prize of all too precious you,\\r\\nThat did my ripe thoughts in my brain inhearse,\\r\\nMaking their tomb the womb wherein they grew?\\r\\nWas it his spirit, by spirits taught to write\\r\\nAbove a mortal pitch, that struck me dead?\\r\\nNo, neither he, nor his compeers by night\\r\\nGiving him aid, my verse astonished.\\r\\nHe, nor that affable familiar ghost\\r\\nWhich nightly gulls him with intelligence,\\r\\nAs victors of my silence cannot boast;\\r\\nI was not sick of any fear from thence:\\r\\nBut when your countenance filled up his line,\\r\\nThen lacked I matter; that enfeebled mine.\\r\\n\\r\\nFarewell! thou art too dear for my possessing,\\r\\nAnd like enough thou know'st thy estimate,\\r\\nThe charter of thy worth gives thee releasing;\\r\\nMy bonds in thee are all determinate.\\r\\nFor how do I hold thee but by thy granting?\\r\\nAnd for that riches where is my deserving?\\r\\nThe cause of this fair gift in me is wanting,\\r\\nAnd so my patent back again is swerving.\\r\\nThy self thou gavest, thy own worth then not knowing,\\r\\nOr me to whom thou gav'st it else mistaking;\\r\\nSo thy great gift, upon misprision growing,\\r\\nComes home again, on better judgement making.\\r\\nThus have I had thee, as a dream doth flatter,\\r\\nIn sleep a king, but waking no such matter.\\r\\n\\r\\nWhen thou shalt be disposed to set me light,\\r\\nAnd place my merit in the eye of scorn,\\r\\nUpon thy side, against myself I'll fight,\\r\\nAnd prove thee virtuous, though thou art forsworn.\\r\\nWith mine own weakness being best acquainted,\\r\\nUpon thy part I can set down a story\\r\\nOf faults concealed, wherein I am attainted;\\r\\nThat thou in losing me shalt win much glory:\\r\\nAnd I by this will be a gainer too;\\r\\nFor bending all my loving thoughts on thee,\\r\\nThe injuries that to myself I do,\\r\\nDoing thee vantage, double-vantage me.\\r\\nSuch is my love, to thee I so belong,\\r\\nThat for thy right, myself will bear all wrong.\\r\\n\\r\\nSay that thou didst forsake me for some fault,\\r\\nAnd I will comment upon that offence:\\r\\nSpeak of my lameness, and I straight will halt,\\r\\nAgainst thy reasons making no defence.\\r\\nThou canst not, love, disgrace me half so ill,\\r\\nTo set a form upon desired change,\\r\\nAs I'll myself disgrace; knowing thy will,\\r\\nI will acquaintance strangle, and look strange;\\r\\nBe absent from thy walks; and in my tongue\\r\\nThy sweet beloved name no more shall dwell,\\r\\nLest I, too much profane, should do it wrong,\\r\\nAnd haply of our old acquaintance tell.\\r\\nFor thee, against my self I'll vow debate,\\r\\nFor I must ne'er love him whom thou dost hate.\\r\\n\\r\\nThen hate me when thou wilt; if ever, now;\\r\\nNow, while the world is bent my deeds to cross,\\r\\nJoin with the spite of fortune, make me bow,\\r\\nAnd do not drop in for an after-loss:\\r\\nAh! do not, when my heart hath 'scaped this sorrow,\\r\\nCome in the rearward of a conquered woe;\\r\\nGive not a windy night a rainy morrow,\\r\\nTo linger out a purposed overthrow.\\r\\nIf thou wilt leave me, do not leave me last,\\r\\nWhen other petty griefs have done their spite,\\r\\nBut in the onset come: so shall I taste\\r\\nAt first the very worst of fortune's might;\\r\\nAnd other strains of woe, which now seem woe,\\r\\nCompared with loss of thee, will not seem so.\\r\\n\\r\\nSome glory in their birth, some in their skill,\\r\\nSome in their wealth, some in their body's force,\\r\\nSome in their garments though new-fangled ill;\\r\\nSome in their hawks and hounds, some in their horse;\\r\\nAnd every humour hath his adjunct pleasure,\\r\\nWherein it finds a joy above the rest:\\r\\nBut these particulars are not my measure,\\r\\nAll these I better in one general best.\\r\\nThy love is better than high birth to me,\\r\\nRicher than wealth, prouder than garments' cost,\\r\\nOf more delight than hawks and horses be;\\r\\nAnd having thee, of all men's pride I boast:\\r\\nWretched in this alone, that thou mayst take\\r\\nAll this away, and me most wretched make.\\r\\n\\r\\nBut do thy worst to steal thyself away,\\r\\nFor term of life thou art assured mine;\\r\\nAnd life no longer than thy love will stay,\\r\\nFor it depends upon that love of thine.\\r\\nThen need I not to fear the worst of wrongs,\\r\\nWhen in the least of them my life hath end.\\r\\nI see a better state to me belongs\\r\\nThan that which on thy humour doth depend:\\r\\nThou canst not vex me with inconstant mind,\\r\\nSince that my life on thy revolt doth lie.\\r\\nO what a happy title do I find,\\r\\nHappy to have thy love, happy to die!\\r\\nBut what's so blessed-fair that fears no blot?\\r\\nThou mayst be false, and yet I know it not.\\r\\n\\r\\nSo shall I live, supposing thou art true,\\r\\nLike a deceived husband; so love's face\\r\\nMay still seem love to me, though altered new;\\r\\nThy looks with me, thy heart in other place:\\r\\nFor there can live no hatred in thine eye,\\r\\nTherefore in that I cannot know thy change.\\r\\nIn many's looks, the false heart's history\\r\\nIs writ in moods, and frowns, and wrinkles strange.\\r\\nBut heaven in thy creation did decree\\r\\nThat in thy face sweet love should ever dwell;\\r\\nWhate'er thy thoughts, or thy heart's workings be,\\r\\nThy looks should nothing thence, but sweetness tell.\\r\\nHow like Eve's apple doth thy beauty grow,\\r\\nIf thy sweet virtue answer not thy show!\\r\\n\\r\\nThey that have power to hurt, and will do none,\\r\\nThat do not do the thing they most do show,\\r\\nWho, moving others, are themselves as stone,\\r\\nUnmoved, cold, and to temptation slow;\\r\\nThey rightly do inherit heaven's graces,\\r\\nAnd husband nature's riches from expense;\\r\\nThey are the lords and owners of their faces,\\r\\nOthers, but stewards of their excellence.\\r\\nThe summer's flower is to the summer sweet,\\r\\nThough to itself, it only live and die,\\r\\nBut if that flower with base infection meet,\\r\\nThe basest weed outbraves his dignity:\\r\\nFor sweetest things turn sourest by their deeds;\\r\\nLilies that fester, smell far worse than weeds.\\r\\n\\r\\nHow sweet and lovely dost thou make the shame\\r\\nWhich, like a canker in the fragrant rose,\\r\\nDoth spot the beauty of thy budding name!\\r\\n\\n\"]\n"
     ]
    }
   ],
   "source": [
    "user_question = \"What is said about the painter in the sonnets?\"\n",
    "\n",
    "# Use the actual user question to retrieve relevant chunks\n",
    "retriever = index.as_retriever()\n",
    "results = retriever.retrieve(user_question)\n",
    "\n",
    "# Build prompt with retrieved results\n",
    "context_blocks = []\n",
    "for i, node_with_score in enumerate(results):\n",
    "    # Fix: Access the underlying node\n",
    "    node = node_with_score.node\n",
    "    metadata = node.metadata or {}\n",
    "    \n",
    "    # Now you can access the metadata you carefully created:\n",
    "    title = metadata.get(\"title\", \"Unknown\")\n",
    "    sonnet_num = metadata.get(\"sonnet_number\", \"N/A\")\n",
    "    line_count = metadata.get(\"line_count\", \"N/A\")\n",
    "    \n",
    "    block = f\"\"\"\n",
    "[Document {i+1}]\n",
    "Title: {title}\n",
    "Lines: {line_count}\n",
    "Content:\n",
    "{node.text}\n",
    "\"\"\"\n",
    "\n",
    "    context_blocks.append(block)\n",
    "\n",
    "print(context_blocks)\n",
    "retrieved_text = \"\\n\".join(context_blocks)\n",
    "\n",
    "# Final prompt\n",
    "prompt = f\"Context:\\n{retrieved_text}\\n\\nQuestion: {user_question}\\nAnswer:\""
   ]
  },
  {
   "cell_type": "code",
   "execution_count": 22,
   "id": "7fe42133",
   "metadata": {},
   "outputs": [],
   "source": [
    "# print(prompt)"
   ]
  },
  {
   "cell_type": "code",
   "execution_count": 23,
   "id": "d24a0fee",
   "metadata": {},
   "outputs": [
    {
     "name": "stdout",
     "output_type": "stream",
     "text": [
      "The sonnets touch upon the theme of painting and the artist's attempt to capture beauty in several ways:\n",
      "\n",
      "1. **Critique of Art's Impermanence**: The sonnets suggest that the painter's efforts to capture beauty are ultimately futile because art is transient. For example, one sonnet speaks of painting applying a \"mouldy lease\" to beauty, implying that art can only offer temporary preservation (\"For fair nothing can be so enduring\").\n",
      "\n",
      "2. **The Inadequacy of Portraits**: Another sonnet discusses the weaknesses in portraits. It mentions how a painted image can only \"blot the beauty\" of the subject, indicating that the representation falls short of the original's allure and vitality.\n",
      "\n",
      "3. **Art's Temporal Nature**: Art is described as mortal and limited in comparison to the enduring nature of beauty described within the sonnets. The painted image is acknowledged as a \"poor ornament,\" emphasizing its inability to truly encapsulate the true essence of its subject.\n",
      "\n",
      "4. **Artist’s Recognition of Limitations**: There's an understanding that an artist may recognize the limitations of their medium and the inevitable impossibility of capturing the true essence of beauty, as it transcends mortal creation.\n",
      "\n",
      "These reflections suggest a tension between the enduring power of beauty and the ephemeral nature of art in capturing it.\n"
     ]
    }
   ],
   "source": [
    "from huggingface_hub import InferenceClient\n",
    " \n",
    "client = InferenceClient(\n",
    "    provider=\"auto\",\n",
    "    api_key=os.getenv(\"HUGGING_FACE_API\"),\n",
    ")\n",
    "\n",
    "completion = client.chat.completions.create(\n",
    "    model=\"microsoft/phi-4\",\n",
    "    messages=[\n",
    "        {\"role\": \"system\", \"content\": \"You are a helpful assistant. Answer the question based on the provided context only .\"},\n",
    "        {\"role\": \"user\", \"content\": prompt}\n",
    "    ],\n",
    ")\n",
    "\n",
    "print(completion.choices[0].message.content)\n"
   ]
  },
  {
   "cell_type": "code",
   "execution_count": null,
   "id": "a7214f69",
   "metadata": {},
   "outputs": [],
   "source": []
  }
 ],
 "metadata": {
  "kernelspec": {
   "display_name": "RAG-using-LlamaIndex",
   "language": "python",
   "name": "python3"
  },
  "language_info": {
   "codemirror_mode": {
    "name": "ipython",
    "version": 3
   },
   "file_extension": ".py",
   "mimetype": "text/x-python",
   "name": "python",
   "nbconvert_exporter": "python",
   "pygments_lexer": "ipython3",
   "version": "3.10.12"
  }
 },
 "nbformat": 4,
 "nbformat_minor": 5
}
