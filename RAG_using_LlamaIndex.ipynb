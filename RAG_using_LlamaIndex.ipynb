{
 "cells": [
  {
   "cell_type": "markdown",
   "id": "34e46055-4721-40b8-a827-ad606a0994f6",
   "metadata": {},
   "source": [
    "Main Goal: To create a rag system that provides information usin sonnet using shakesphere's sonnet\n",
    "# To-Do\n"
   ]
  },
  {
   "cell_type": "code",
   "execution_count": 1,
   "id": "8e5b4a04-6956-40a7-92db-0fb75a1a6c4f",
   "metadata": {},
   "outputs": [],
   "source": [
    "import os\n",
    "from dotenv import load_dotenv"
   ]
  },
  {
   "cell_type": "code",
   "execution_count": 2,
   "id": "1d019baf-b09a-4f3d-9e55-27f8bd459a9a",
   "metadata": {},
   "outputs": [
    {
     "name": "stderr",
     "output_type": "stream",
     "text": [
      "/home/vertex/Desktop/RAG-using-LlamaIndex/.venv/lib/python3.10/site-packages/tqdm/auto.py:21: TqdmWarning: IProgress not found. Please update jupyter and ipywidgets. See https://ipywidgets.readthedocs.io/en/stable/user_install.html\n",
      "  from .autonotebook import tqdm as notebook_tqdm\n"
     ]
    }
   ],
   "source": [
    "from llama_index.core import VectorStoreIndex, SimpleDirectoryReader\n",
    "from llama_index.core.node_parser import SentenceSplitter\n",
    "from llama_index.embeddings.huggingface import HuggingFaceEmbedding\n",
    "from huggingface_hub import InferenceClient"
   ]
  },
  {
   "cell_type": "code",
   "execution_count": 3,
   "id": "4abb1130-6850-40a1-a0a0-154e5ad8f1e4",
   "metadata": {},
   "outputs": [],
   "source": [
    "load_dotenv()\n",
    "\n",
    "PINECONE_API_KEY = os.getenv(\"PINECONE_API_KEY\")\n",
    "PINECONE_REGION = os.getenv(\"PINECONE_REGION\")\n",
    "PINECONE_CLOUD = os.getenv(\"PINECONE_CLOUD\")\n",
    "HUGGING_FACE_API = os.getenv(\"HUGGING_FACE_API\")"
   ]
  },
  {
   "cell_type": "code",
   "execution_count": 4,
   "id": "01b0e70b-dc5f-4dc0-aeb3-dff293e7facf",
   "metadata": {},
   "outputs": [],
   "source": [
    "documents = SimpleDirectoryReader(\"data\").load_data()"
   ]
  },
  {
   "cell_type": "code",
   "execution_count": 5,
   "id": "87cf7840-4a3e-4163-ad3c-a819b8b2562e",
   "metadata": {},
   "outputs": [
    {
     "name": "stdout",
     "output_type": "stream",
     "text": [
      "Loaded 1 documents\n",
      "\n",
      "\n",
      "From fairest creatures we desire increase,\n",
      "That thereby beauty's rose might never die,\n",
      "But as the riper should by time decease,\n",
      "His tender heir might bear his memory:\n",
      "But thou contracted to thine own bright eyes,\n",
      "Feed'st thy light's flame with self-substantial fuel,\n",
      "Making a famine where abundance lies,\n",
      "Thy self thy foe, to thy sweet self too cruel:\n",
      "Thou that art now the world's fresh ornament,\n",
      "And only herald to the gaudy spring,\n",
      "Within thine own bud buriest thy content,\n",
      "And, tender \n"
     ]
    }
   ],
   "source": [
    "print(f\"Loaded {len(documents)} documents\\n\\n\")\n",
    "print(documents[0].text[:500])  # Show a preview of the first doc"
   ]
  },
  {
   "cell_type": "code",
   "execution_count": 6,
   "id": "afcc6e48-0071-4f10-859b-31c40d703298",
   "metadata": {},
   "outputs": [],
   "source": [
    "splitter = SentenceSplitter(chunk_size=512, chunk_overlap=50)\n",
    "nodes = splitter.get_nodes_from_documents(documents)"
   ]
  },
  {
   "cell_type": "code",
   "execution_count": 7,
   "id": "d3ba7f01-7d3a-44a9-9ce3-e3db7698b4cf",
   "metadata": {},
   "outputs": [
    {
     "name": "stdout",
     "output_type": "stream",
     "text": [
      "[TextNode(id_='71e40f00-6944-4637-be38-e58a781b5c30', embedding=None, metadata={'file_path': '/home/vertex/Desktop/RAG-using-LlamaIndex/data/Sonnets.txt', 'file_name': 'Sonnets.txt', 'file_type': 'text/plain', 'file_size': 96390, 'creation_date': '2025-07-10', 'last_modified_date': '2025-07-10'}, excluded_embed_metadata_keys=['file_name', 'file_type', 'file_size', 'creation_date', 'last_modified_date', 'last_accessed_date'], excluded_llm_metadata_keys=['file_name', 'file_type', 'file_size', 'creation_date', 'last_modified_date', 'last_accessed_date'], relationships={<NodeRelationship.SOURCE: '1'>: RelatedNodeInfo(node_id='a400c16a-e471-48d8-a664-3f386d5f67c0', node_type=<ObjectType.DOCUMENT: '4'>, metadata={'file_path': '/home/vertex/Desktop/RAG-using-LlamaIndex/data/Sonnets.txt', 'file_name': 'Sonnets.txt', 'file_type': 'text/plain', 'file_size': 96390, 'creation_date': '2025-07-10', 'last_modified_date': '2025-07-10'}, hash='d2acb3db69fc18a716639cb931dc5c9f53757707801db29cb1543711edcf5650'), <NodeRelationship.NEXT: '3'>: RelatedNodeInfo(node_id='55387ac2-9768-498a-801d-c0357e6fdded', node_type=<ObjectType.TEXT: '1'>, metadata={}, hash='31f2fb2e056753f45a271aba736468e08ae74335f40217a6c227cf1a9ff94e69')}, metadata_template='{key}: {value}', metadata_separator='\\n', text=\"From fairest creatures we desire increase,\\r\\nThat thereby beauty's rose might never die,\\r\\nBut as the riper should by time decease,\\r\\nHis tender heir might bear his memory:\\r\\nBut thou contracted to thine own bright eyes,\\r\\nFeed'st thy light's flame with self-substantial fuel,\\r\\nMaking a famine where abundance lies,\\r\\nThy self thy foe, to thy sweet self too cruel:\\r\\nThou that art now the world's fresh ornament,\\r\\nAnd only herald to the gaudy spring,\\r\\nWithin thine own bud buriest thy content,\\r\\nAnd, tender churl, mak'st waste in niggarding:\\r\\nPity the world, or else this glutton be,\\r\\nTo eat the world's due, by the grave and thee.\\r\\n\\r\\nWhen forty winters shall besiege thy brow,\\r\\nAnd dig deep trenches in thy beauty's field,\\r\\nThy youth's proud livery so gazed on now,\\r\\nWill be a totter'd weed of small worth held:\\r\\nThen being asked, where all thy beauty lies,\\r\\nWhere all the treasure of thy lusty days;\\r\\nTo say, within thine own deep sunken eyes,\\r\\nWere an all-eating shame, and thriftless praise.\\r\\nHow much more praise deserv'd thy beauty's use,\\r\\nIf thou couldst answer 'This fair child of mine\\r\\nShall sum my count, and make my old excuse,'\\r\\nProving his beauty by succession thine!\\r\\nThis were to be new made when thou art old,\\r\\nAnd see thy blood warm when thou feel'st it cold.\\r\\n\\r\\nLook in thy glass and tell the face thou viewest\\r\\nNow is the time that face should form another;\\r\\nWhose fresh repair if now thou not renewest,\\r\\nThou dost beguile the world, unbless some mother.\\r\\nFor where is she so fair whose uneared womb\\r\\nDisdains the tillage of thy husbandry?\\r\\nOr who is he so fond will be the tomb\\r\\nOf his self-love, to stop posterity?\\r\\nThou art thy mother's glass and she in thee\\r\\nCalls back the lovely April of her prime;\\r\\nSo thou through windows of thine age shalt see,\\r\\nDespite of wrinkles, this thy golden time.\\r\\nBut if thou live, remembered not to be,\\r\\nDie single and thine image dies with thee.\\r\\n\\r\\nUnthrifty loveliness, why dost thou spend\\r\\nUpon thy self thy beauty's legacy?\", mimetype='text/plain', start_char_idx=0, end_char_idx=1975, metadata_seperator='\\n', text_template='{metadata_str}\\n\\n{content}')]\n"
     ]
    }
   ],
   "source": [
    "print(nodes[:1])"
   ]
  },
  {
   "cell_type": "code",
   "execution_count": 8,
   "id": "0b93bb28-fde6-4c5c-9cfd-c2d65ca2af2f",
   "metadata": {},
   "outputs": [],
   "source": [
    "# Use HuggingFace embedding model\n",
    "# https://huggingface.co/sentence-transformers/all-MiniLM-L6-v2\n",
    "embed_model = HuggingFaceEmbedding(model_name=\"sentence-transformers/all-MiniLM-L6-v2\")"
   ]
  },
  {
   "cell_type": "code",
   "execution_count": 9,
   "id": "be98079b-5761-4919-909a-56c05b924445",
   "metadata": {},
   "outputs": [],
   "source": [
    "index = VectorStoreIndex(nodes, embed_model=embed_model)"
   ]
  },
  {
   "cell_type": "code",
   "execution_count": 10,
   "id": "6cb0822c-61a5-4d22-8284-ae91fff4d79e",
   "metadata": {},
   "outputs": [],
   "source": [
    "from llama_index.core import VectorStoreIndex\n",
    "from llama_index.core import SimpleDirectoryReader\n",
    "from llama_index.embeddings.huggingface import HuggingFaceEmbedding\n",
    "from llama_index.vector_stores.pinecone import PineconeVectorStore\n",
    "\n",
    "from pinecone import Pinecone, ServerlessSpec"
   ]
  },
  {
   "cell_type": "code",
   "execution_count": 11,
   "id": "38be2f35-ee4a-46d8-9390-3a5b47a08d14",
   "metadata": {},
   "outputs": [],
   "source": [
    "pc = Pinecone(api_key=PINECONE_API_KEY)\n",
    "\n",
    "index_name = \"rag-llamaindex\"\n",
    "embedding_dim = 384\n",
    "\n",
    "# Create index if it doesn't exist\n",
    "if index_name not in pc.list_indexes().names():\n",
    "    pc.create_index(\n",
    "        name=index_name,\n",
    "        dimension=embedding_dim,\n",
    "        metric=\"cosine\",\n",
    "        spec=ServerlessSpec(\n",
    "            cloud=PINECONE_CLOUD,\n",
    "            region=PINECONE_REGION\n",
    "        )\n",
    "    )"
   ]
  },
  {
   "cell_type": "code",
   "execution_count": 12,
   "id": "f312c286-b2f2-4e79-bc1e-a58e771f5152",
   "metadata": {},
   "outputs": [],
   "source": [
    "# Connect to the Pinecone index\n",
    "pinecone_index = pc.Index(index_name)\n",
    "\n",
    "# Create LlamaIndex Pinecone vector store wrapper\n",
    "vector_store = PineconeVectorStore(pinecone_index=pinecone_index)"
   ]
  },
  {
   "cell_type": "code",
   "execution_count": 13,
   "id": "331f42eb-8922-4dfb-b50f-974346e2366b",
   "metadata": {},
   "outputs": [],
   "source": [
    "index = VectorStoreIndex(nodes, embed_model=embed_model, vector_store=vector_store)"
   ]
  },
  {
   "cell_type": "code",
   "execution_count": 15,
   "id": "2663f29a-22e9-4502-bf47-4c69d9db8181",
   "metadata": {},
   "outputs": [],
   "source": [
    "# retriever = index.as_retriever()\n",
    "# results = retriever.retrieve(\"What is this document about?\")\n",
    "# results[0]"
   ]
  },
  {
   "cell_type": "code",
   "execution_count": 16,
   "id": "a2819395-456c-417d-b42b-8b5ada86da10",
   "metadata": {},
   "outputs": [],
   "source": [
    "retriever = index.as_retriever()\n",
    "results = retriever.retrieve(\"What do they say about the painter\")\n",
    "\n",
    "# Build prompt with text and metadata\n",
    "context_blocks = []\n",
    "\n",
    "for i, node in enumerate(results):\n",
    "    metadata = node.metadata or {}\n",
    "    page_number = metadata.get(\"page_number\", \"N/A\")\n",
    "    source = metadata.get(\"file_name\", \"Unknown Source\")\n",
    "    \n",
    "    block = f\"\"\"\n",
    "[Document {i+1}]\n",
    "Source: {source}\n",
    "Page: {page_number}\n",
    "Content:\n",
    "{node.get_text()}\n",
    "\"\"\"\n",
    "    context_blocks.append(block)\n",
    "\n",
    "retrieved_text = \"\\n\".join(context_blocks)\n"
   ]
  },
  {
   "cell_type": "code",
   "execution_count": 25,
   "id": "870fe661",
   "metadata": {},
   "outputs": [
    {
     "name": "stdout",
     "output_type": "stream",
     "text": [
      "Document 1 Metadata:\n",
      "Content:\n",
      "O! let my looks be then the eloquence\n",
      "And dumb presagers of my speaking breast,\n",
      "Who plead for love, and look for recompense,\n",
      "More than that tongue that more hath more express'd.\n",
      "O! learn to read what silent love hath writ:\n",
      "To hear with eyes belongs to love's fine wit.\n",
      "\n",
      "Mine eye hath played the painter and hath steeled,\n",
      "Thy beauty's form in table of my heart;\n",
      "My body is the frame wherein 'tis held,\n",
      "And perspective that is best painter's art.\n",
      "For through the painter must you see his skill,\n",
      "To find where your true image pictured lies,\n",
      "Which in my bosom's shop is hanging still,\n",
      "That hath his windows glazed with thine eyes.\n",
      "Now see what good turns eyes for eyes have done:\n",
      "Mine eyes have drawn thy shape, and thine for me\n",
      "Are windows to my breast, where-through the sun\n",
      "Delights to peep, to gaze therein on thee;\n",
      "Yet eyes this cunning want to grace their art,\n",
      "They draw but what they see, know not the heart.\n",
      "\n",
      "Let those who are in favour with their stars\n",
      "Of public honour and proud titles boast,\n",
      "Whilst I, whom fortune of such triumph bars\n",
      "Unlook'd for joy in that I honour most.\n",
      "Great princes' favourites their fair leaves spread\n",
      "But as the marigold at the sun's eye,\n",
      "And in themselves their pride lies buried,\n",
      "For at a frown they in their glory die.\n",
      "The painful warrior famoused for fight,\n",
      "After a thousand victories once foiled,\n",
      "Is from the book of honour razed quite,\n",
      "And all the rest forgot for which he toiled:\n",
      "Then happy I, that love and am beloved,\n",
      "  Where I may not remove nor be removed.\n",
      "----------------------------------------\n",
      "Document 2 Metadata:\n",
      "Content:\n",
      "I never saw that you did painting need,\n",
      "And therefore to your fair no painting set;\n",
      "I found, or thought I found, you did exceed\n",
      "The barren tender of a poet's debt:\n",
      "And therefore have I slept in your report,\n",
      "That you yourself, being extant, well might show\n",
      "How far a modern quill doth come too short,\n",
      "Speaking of worth, what worth in you doth grow.\n",
      "This silence for my sin you did impute,\n",
      "Which shall be most my glory being dumb;\n",
      "For I impair not beauty being mute,\n",
      "When others would give life, and bring a tomb.\n",
      "There lives more life in one of your fair eyes\n",
      "Than both your poets can in praise devise.\n",
      "\n",
      "Who is it that says most, which can say more,\n",
      "Than this rich praise, that you alone, are you,\n",
      "In whose confine immured is the store\n",
      "Which should example where your equal grew?\n",
      "Lean penury within that pen doth dwell\n",
      "That to his subject lends not some small glory;\n",
      "But he that writes of you, if he can tell\n",
      "That you are you, so dignifies his story.\n",
      "Let him but copy what in you is writ,\n",
      "Not making worse what nature made so clear,\n",
      "And such a counterpart shall fame his wit,\n",
      "Making his style admired every where.\n",
      "You to your beauteous blessings add a curse,\n",
      "Being fond on praise, which makes your praises worse.\n",
      "\n",
      "My tongue-tied Muse in manners holds her still,\n",
      "While comments of your praise richly compiled,\n",
      "Reserve thy character with golden quill,\n",
      "And precious phrase by all the Muses filed.\n",
      "I think good thoughts, whilst others write good words,\n",
      "And like unlettered clerk still cry 'Amen'\n",
      "To every hymn that able spirit affords,\n",
      "In polished form of well-refined pen.\n",
      "Hearing you praised, I say ''tis so, 'tis true,'\n",
      "And to the most of praise add something more;\n",
      "But that is in my thought, whose love to you,\n",
      "Though words come hindmost, holds his rank before.\n",
      "Then others, for the breath of words respect,\n",
      "Me for my dumb thoughts, speaking in effect.\n",
      "\n",
      "Was it the proud full sail of his great verse,\n",
      "Bound for the prize of all too precious you,\n",
      "That did my ripe thoughts in my brain inhearse,\n",
      "Making their tomb the womb wherein they grew?\n",
      "----------------------------------------\n"
     ]
    }
   ],
   "source": [
    "for i, node in enumerate(results):\n",
    "    print(f\"Document {i+1} Metadata:\")\n",
    "    print(\"Content:\")\n",
    "    print(node.get_text())\n",
    "    print(\"-\" * 40)"
   ]
  },
  {
   "cell_type": "code",
   "execution_count": 17,
   "id": "a9110cf3-6129-43c4-a453-efd267406996",
   "metadata": {},
   "outputs": [
    {
     "data": {
      "text/plain": [
       "\"\\n[Document 1]\\nSource: Sonnets.txt\\nPage: N/A\\nContent:\\nO! let my looks be then the eloquence\\r\\nAnd dumb presagers of my speaking breast,\\r\\nWho plead for love, and look for recompense,\\r\\nMore than that tongue that more hath more express'd.\\r\\nO! learn to read what silent love hath writ:\\r\\nTo hear with eyes belongs to love's fine wit.\\r\\n\\r\\nMine eye hath played the painter and hath steeled,\\r\\nThy beauty's form in table of my heart;\\r\\nMy body is the frame wherein 'tis held,\\r\\nAnd perspective that is best painter's art.\\r\\nFor through the painter must you see his skill,\\r\\nTo find where your true image pictured lies,\\r\\nWhich in my bosom's shop is hanging still,\\r\\nThat hath his windows glazed with thine eyes.\\r\\nNow see what good turns eyes for eyes have done:\\r\\nMine eyes have drawn thy shape, and thine for me\\r\\nAre windows to my breast, where-through the sun\\r\\nDelights to peep, to gaze therein on thee;\\r\\nYet eyes this cunning want to grace their art,\\r\\nThey draw but what they see, know not the heart.\\r\\n\\r\\nLet those who are in favour with their stars\\r\\nOf public honour and proud titles boast,\\r\\nWhilst I, whom fortune of such triumph bars\\r\\nUnlook'd for joy in that I honour most.\\r\\nGreat princes' favourites their fair leaves spread\\r\\nBut as the marigold at the sun's eye,\\r\\nAnd in themselves their pride lies buried,\\r\\nFor at a frown they in their glory die.\\r\\nThe painful warrior famoused for fight,\\r\\nAfter a thousand victories once foiled,\\r\\nIs from the book of honour razed quite,\\r\\nAnd all the rest forgot for which he toiled:\\r\\nThen happy I, that love and am beloved,\\r\\n  Where I may not remove nor be removed.\\n\\n\\n[Document 2]\\nSource: Sonnets.txt\\nPage: N/A\\nContent:\\nI never saw that you did painting need,\\r\\nAnd therefore to your fair no painting set;\\r\\nI found, or thought I found, you did exceed\\r\\nThe barren tender of a poet's debt:\\r\\nAnd therefore have I slept in your report,\\r\\nThat you yourself, being extant, well might show\\r\\nHow far a modern quill doth come too short,\\r\\nSpeaking of worth, what worth in you doth grow.\\r\\nThis silence for my sin you did impute,\\r\\nWhich shall be most my glory being dumb;\\r\\nFor I impair not beauty being mute,\\r\\nWhen others would give life, and bring a tomb.\\r\\nThere lives more life in one of your fair eyes\\r\\nThan both your poets can in praise devise.\\r\\n\\r\\nWho is it that says most, which can say more,\\r\\nThan this rich praise, that you alone, are you,\\r\\nIn whose confine immured is the store\\r\\nWhich should example where your equal grew?\\r\\nLean penury within that pen doth dwell\\r\\nThat to his subject lends not some small glory;\\r\\nBut he that writes of you, if he can tell\\r\\nThat you are you, so dignifies his story.\\r\\nLet him but copy what in you is writ,\\r\\nNot making worse what nature made so clear,\\r\\nAnd such a counterpart shall fame his wit,\\r\\nMaking his style admired every where.\\r\\nYou to your beauteous blessings add a curse,\\r\\nBeing fond on praise, which makes your praises worse.\\r\\n\\r\\nMy tongue-tied Muse in manners holds her still,\\r\\nWhile comments of your praise richly compiled,\\r\\nReserve thy character with golden quill,\\r\\nAnd precious phrase by all the Muses filed.\\r\\nI think good thoughts, whilst others write good words,\\r\\nAnd like unlettered clerk still cry 'Amen'\\r\\nTo every hymn that able spirit affords,\\r\\nIn polished form of well-refined pen.\\r\\nHearing you praised, I say ''tis so, 'tis true,'\\r\\nAnd to the most of praise add something more;\\r\\nBut that is in my thought, whose love to you,\\r\\nThough words come hindmost, holds his rank before.\\r\\nThen others, for the breath of words respect,\\r\\nMe for my dumb thoughts, speaking in effect.\\r\\n\\r\\nWas it the proud full sail of his great verse,\\r\\nBound for the prize of all too precious you,\\r\\nThat did my ripe thoughts in my brain inhearse,\\r\\nMaking their tomb the womb wherein they grew?\\n\""
      ]
     },
     "execution_count": 17,
     "metadata": {},
     "output_type": "execute_result"
    }
   ],
   "source": [
    "retrieved_text"
   ]
  },
  {
   "cell_type": "code",
   "execution_count": 18,
   "id": "bd63890c-309a-404a-9a4c-adb3b4d1b61b",
   "metadata": {},
   "outputs": [],
   "source": [
    "user_question = \"What does Krishna say about the Bhagavad Gita?\"\n",
    "\n",
    "prompt = f\"Context:\\n{retrieved_text}\\n\\nQuestion: {user_question}\\nAnswer:\"\n"
   ]
  },
  {
   "cell_type": "code",
   "execution_count": 19,
   "id": "f8fab054",
   "metadata": {},
   "outputs": [],
   "source": [
    "# import os\n",
    "# from huggingface_hub import InferenceClient\n",
    " \n",
    "# client = InferenceClient(\n",
    "#     provider=\"auto\",\n",
    "#     api_key=os.getenv(\"HUGGING_FACE_API\"),\n",
    "# )\n",
    "\n",
    "# completion = client.chat.completions.create(\n",
    "#     model=\"microsoft/phi-4\",\n",
    "#     messages=[\n",
    "#         {\n",
    "#             \"role\": \"user\",\n",
    "#             \"content\": \"What is the capital of France?\"\n",
    "#         }\n",
    "#     ],\n",
    "# )\n",
    " \n",
    "# print(completion.choices[0].message)"
   ]
  },
  {
   "cell_type": "code",
   "execution_count": 27,
   "id": "68191663-05b4-437d-909b-8d592451e4e4",
   "metadata": {},
   "outputs": [
    {
     "name": "stdout",
     "output_type": "stream",
     "text": [
      "The context provided does not contain any information about Krishna or the Bhagavad Gita. The content is focused on excerpts from sonnets, which discuss themes of love and beauty. Therefore, I cannot provide an answer regarding what Krishna says about the Bhagavad Gita based on the given documents.\n"
     ]
    }
   ],
   "source": [
    "from huggingface_hub import InferenceClient\n",
    " \n",
    "client = InferenceClient(\n",
    "    provider=\"auto\",\n",
    "    api_key=os.getenv(\"HUGGING_FACE_API\"),\n",
    ")\n",
    "\n",
    "completion = client.chat.completions.create(\n",
    "    model=\"microsoft/phi-4\",\n",
    "    messages=[\n",
    "        {\"role\": \"system\", \"content\": \"You are a helpful assistant. Answer the question based on the provided context only.\"},\n",
    "        {\"role\": \"user\", \"content\": prompt}\n",
    "    ],\n",
    ")\n",
    "\n",
    "print(completion.choices[0].message.content)\n"
   ]
  },
  {
   "cell_type": "code",
   "execution_count": null,
   "id": "4ad2cab9-c51a-4c7d-9bf9-d3880ade290b",
   "metadata": {},
   "outputs": [],
   "source": []
  },
  {
   "cell_type": "code",
   "execution_count": null,
   "id": "57da1faf-f8ae-4021-9a44-54e6af410730",
   "metadata": {},
   "outputs": [],
   "source": []
  }
 ],
 "metadata": {
  "kernelspec": {
   "display_name": "RAG-using-LlamaIndex",
   "language": "python",
   "name": "python3"
  },
  "language_info": {
   "codemirror_mode": {
    "name": "ipython",
    "version": 3
   },
   "file_extension": ".py",
   "mimetype": "text/x-python",
   "name": "python",
   "nbconvert_exporter": "python",
   "pygments_lexer": "ipython3",
   "version": "3.10.12"
  }
 },
 "nbformat": 4,
 "nbformat_minor": 5
}
